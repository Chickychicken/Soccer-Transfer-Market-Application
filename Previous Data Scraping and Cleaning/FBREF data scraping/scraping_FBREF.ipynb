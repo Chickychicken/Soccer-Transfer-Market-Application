{
 "cells": [
  {
   "attachments": {},
   "cell_type": "markdown",
   "metadata": {},
   "source": [
    "# Scraping FBREF"
   ]
  },
  {
   "cell_type": "code",
   "execution_count": 1,
   "metadata": {},
   "outputs": [],
   "source": [
    "import requests\n",
    "from bs4 import BeautifulSoup\n",
    "import pandas as pd"
   ]
  },
  {
   "cell_type": "code",
   "execution_count": 227,
   "metadata": {},
   "outputs": [],
   "source": [
    "def get_league_links(n, link):\n",
    "    \n",
    "    LinkList = []\n",
    "\n",
    "    headers = {'User-Agent': 'Mozilla/5.0 (X11; Linux x86_64) AppleWebKit/537.36 (KHTML, like Gecko) Chrome/47.0.2526.106 Safari/537.36'}\n",
    "\n",
    "    page = link\n",
    "    pageTree = requests.get(page, headers=headers)\n",
    "    pageSoup = BeautifulSoup(pageTree.content, 'html.parser')\n",
    "\n",
    "    link = pageSoup.find_all(\"td\", {\"data-stat\": \"team\"})\n",
    "\n",
    "    for i in range(0, len(link)):\n",
    "        LinkList.append(\"https://fbref.com/\" + str(link[i]).split('href=\"',1)[1].split('\">',1)[0])\n",
    "        if i >= n-1:\n",
    "            break\n",
    "\n",
    "    return LinkList"
   ]
  },
  {
   "cell_type": "code",
   "execution_count": 224,
   "metadata": {},
   "outputs": [],
   "source": [
    "def scrape_players(links):\n",
    "   \n",
    "    #Identification\n",
    "    PlayersList = []\n",
    "    AgeList = []\n",
    "    PosList = []\n",
    "\n",
    "    #Standard\n",
    "    MPList = []\n",
    "    StartsList = []\n",
    "    MinList = []\n",
    "    GoalsList = []\n",
    "    AssistsList = []\n",
    "    PKList = []\n",
    "    PKattList = []\n",
    "    CrdYList = []\n",
    "    CrdRList = []\n",
    "\n",
    "    #Shooting\n",
    "    ShList = []\n",
    "    SoTList = []\n",
    "    SoTPList = []\n",
    "    GShList = []\n",
    "    GSoTList = []\n",
    "    DistList = []\n",
    "    FKList = []\n",
    "\n",
    "    #Passing\n",
    "    CmpList = []\n",
    "    AttList = []\n",
    "    CmpPList = []\n",
    "    TotDistList = []\n",
    "    PrgDistList = []\n",
    "\n",
    "    #Goals and Shot Creation\n",
    "    SCAList = []\n",
    "    SCA90List = []\n",
    "    SPassLiveList = []\n",
    "    SPassDeadList = []\n",
    "    STOList = []\n",
    "    SCAShList = []\n",
    "    SFldList = []\n",
    "    SCADefList = []\n",
    "\n",
    "    GCAList = []\n",
    "    GCA90List = []\n",
    "    GPassLiveList = []\n",
    "    GPassDeadList = []\n",
    "    GTOList = []\n",
    "    GCAShList = []\n",
    "    GFldList = []\n",
    "    GCADefList = []\n",
    "    \n",
    "    #Defense\n",
    "    TklList = []\n",
    "    TklWList = []\n",
    "    CTklList = []\n",
    "    CTklPList = []\n",
    "    BlocksList = []\n",
    "    IntList = []\n",
    "    TklIntList = []\n",
    "    ClrList = []\n",
    "    ErrList = []\n",
    "\n",
    "\n",
    "\n",
    "    for a in links:\n",
    "        headers = {'User-Agent': 'Mozilla/5.0 (X11; Linux x86_64) AppleWebKit/537.36 (KHTML, like Gecko) Chrome/47.0.2526.106 Safari/537.36'}\n",
    "\n",
    "        page = a\n",
    "        pageTree = requests.get(page, headers=headers)\n",
    "        pageSoup = BeautifulSoup(pageTree.content, 'html.parser')\n",
    "\n",
    "        #Identification\n",
    "        Players = pageSoup.find_all(\"th\", {\"data-stat\": \"player\"})\n",
    "        Age = pageSoup.find_all(\"td\", {\"data-stat\": \"age\"})\n",
    "        Pos = pageSoup.find_all(\"td\", {\"data-stat\": \"position\"})\n",
    "        \n",
    "        #Standard\n",
    "        MP = pageSoup.find_all(\"td\", {\"data-stat\": \"games\"})\n",
    "        Starts = pageSoup.find_all(\"td\", {\"data-stat\": \"games_starts\"})\n",
    "        Min = pageSoup.find_all(\"td\", {\"data-stat\": \"minutes\"})\n",
    "        Goals = pageSoup.find_all(\"td\", {\"data-stat\": \"goals\"})\n",
    "        Assists = pageSoup.find_all(\"td\", {\"data-stat\": \"assists\"})\n",
    "        PK = pageSoup.find_all(\"td\", {\"data-stat\": \"pens_made\"})\n",
    "        CrdY = pageSoup.find_all(\"td\", {\"data-stat\": \"cards_yellow\"})\n",
    "        CrdR = pageSoup.find_all(\"td\", {\"data-stat\": \"cards_red\"})\n",
    "        \n",
    "        #Shooting\n",
    "        Sh = pageSoup.find_all(\"td\", {\"data-stat\": \"shots\"})\n",
    "        SoT = pageSoup.find_all(\"td\", {\"data-stat\": \"shots_on_target\"})\n",
    "        SoTP = pageSoup.find_all(\"td\", {\"data-stat\": \"shots_on_target_pct\"})\n",
    "        GSh = pageSoup.find_all(\"td\", {\"data-stat\": \"goals_per_shot\"})\n",
    "        GSoT = pageSoup.find_all(\"td\", {\"data-stat\": \"goals_per_shot_on_target\"})\n",
    "        Dist = pageSoup.find_all(\"td\", {\"data-stat\": \"average_shot_distance\"})\n",
    "        FK = pageSoup.find_all(\"td\", {\"data-stat\": \"shots_free_kicks\"})\n",
    "\n",
    "        #Passing\n",
    "        Cmp = pageSoup.find_all(\"td\", {\"data-stat\": \"passes_completed\"})\n",
    "        Att = pageSoup.find_all(\"td\", {\"data-stat\": \"passes\"})\n",
    "        CmpP = pageSoup.find_all(\"td\", {\"data-stat\": \"passes_pct\"})\n",
    "        TotDist = pageSoup.find_all(\"td\", {\"data-stat\": \"passes_total_distance\"})\n",
    "        PrgDist = pageSoup.find_all(\"td\", {\"data-stat\": \"passes_progressive_distance\"})\n",
    "\n",
    "        #Goals and Shot Creation\n",
    "        SCA = pageSoup.find_all(\"td\", {\"data-stat\": \"sca\"})\n",
    "        SCA90 = pageSoup.find_all(\"td\", {\"data-stat\": \"sca_per90\"})\n",
    "        SPassLive = pageSoup.find_all(\"td\", {\"data-stat\": \"sca_passes_live\"})\n",
    "        SPassDead = pageSoup.find_all(\"td\", {\"data-stat\": \"sca_passes_dead\"})\n",
    "        STO = pageSoup.find_all(\"td\", {\"data-stat\": \"sca_take_ons\"})\n",
    "        SCASh = pageSoup.find_all(\"td\", {\"data-stat\": \"sca_shots\"})\n",
    "        SFld = pageSoup.find_all(\"td\", {\"data-stat\": \"sca_fouled\"})\n",
    "        SCADef = pageSoup.find_all(\"td\", {\"data-stat\": \"sca_defense\"})\n",
    "\n",
    "        GCA = pageSoup.find_all(\"td\", {\"data-stat\": \"gca\"})\n",
    "        GCA90 = pageSoup.find_all(\"td\", {\"data-stat\": \"gca_per90\"})\n",
    "        GPassLive = pageSoup.find_all(\"td\", {\"data-stat\": \"gca_passes_live\"})\n",
    "        GPassDead = pageSoup.find_all(\"td\", {\"data-stat\": \"gca_passes_dead\"})\n",
    "        GTO = pageSoup.find_all(\"td\", {\"data-stat\": \"gca_take_ons\"})\n",
    "        GCASh = pageSoup.find_all(\"td\", {\"data-stat\": \"gca_shots\"})\n",
    "        GFld = pageSoup.find_all(\"td\", {\"data-stat\": \"gca_fouled\"})\n",
    "        GCADef = pageSoup.find_all(\"td\", {\"data-stat\": \"gca_defense\"})\n",
    "\n",
    "        #Defense\n",
    "        Tkl = pageSoup.find_all(\"td\", {\"data-stat\": \"tackles\"})\n",
    "        TklW = pageSoup.find_all(\"td\", {\"data-stat\": \"tackles_won\"})\n",
    "        CTkl = pageSoup.find_all(\"td\", {\"data-stat\": \"challenge_tackles\"})\n",
    "        CTklP = pageSoup.find_all(\"td\", {\"data-stat\": \"challenge_tackles_pct\"})\n",
    "        Blocks = pageSoup.find_all(\"td\", {\"data-stat\": \"blocks\"})\n",
    "        Int = pageSoup.find_all(\"td\", {\"data-stat\": \"interceptions\"})\n",
    "        TklInt = pageSoup.find_all(\"td\", {\"data-stat\": \"tackles_interceptions\"})\n",
    "        Clr = pageSoup.find_all(\"td\", {\"data-stat\": \"clearances\"})\n",
    "        Err = pageSoup.find_all(\"td\", {\"data-stat\": \"errors\"})\n",
    "\n",
    "\n",
    "        #25 players per roster\n",
    "        r = 25\n",
    "        \n",
    "        #Identification\n",
    "        for i in range(0, r):\n",
    "            s = str(Players[i+1])\n",
    "            start_index = s.find('k=\"') + 3\n",
    "            end_index = s.find('data') - 2\n",
    "            name = s[start_index:end_index]\n",
    "            PlayersList.append(name)\n",
    "        for i in range(0, r):\n",
    "            AgeList.append(str(Age[i]).split('\">', 1)[1].split('</', 1)[0])\n",
    "        for i in range(0, r):\n",
    "            PosList.append(str(Pos[i]).split('\">', 1)[1].split('</', 1)[0])\n",
    "        \n",
    "        #Standard\n",
    "        for i in range(0, r):\n",
    "            MPList.append(str(MP[i]).split('\">', 1)[1].split('</', 1)[0])\n",
    "        for i in range(0, r):\n",
    "            StartsList.append(str(Starts[i]).split('\">', 1)[1].split('</', 1)[0])\n",
    "        for i in range(0, r):\n",
    "            MinList.append(str(Min[i]).split('\">', 1)[1].split('</', 1)[0])\n",
    "        for i in range(0, r):\n",
    "            GoalsList.append(str(Goals[i]).split('\">', 1)[1].split('</', 1)[0])\n",
    "        for i in range(0, r):\n",
    "            AssistsList.append(str(Assists[i]).split('\">', 1)[1].split('</', 1)[0])\n",
    "        for i in range(0, r):\n",
    "            PKList.append(str(PK[i]).split('\">', 1)[1].split('</', 1)[0])\n",
    "        for i in range(0, r):\n",
    "            CrdYList.append(str(CrdY[i]).split('\">', 1)[1].split('</', 1)[0])\n",
    "        for i in range(0, r):\n",
    "            CrdRList.append(str(CrdR[i]).split('\">', 1)[1].split('</', 1)[0])\n",
    "        \n",
    "        #Shooting        \n",
    "        for i in range(0, r):\n",
    "            ShList.append(str(Sh[i]).split('\">', 1)[1].split('</', 1)[0])\n",
    "        for i in range(0, r):\n",
    "            SoTList.append(str(SoT[i]).split('\">', 1)[1].split('</', 1)[0])\n",
    "        for i in range(0, r):\n",
    "            SoTPList.append(str(SoTP[i]).split('\">', 1)[1].split('</', 1)[0])\n",
    "        for i in range(0, r):\n",
    "            GShList.append(str(GSh[i]).split('\">', 1)[1].split('</', 1)[0])\n",
    "        for i in range(0, r):\n",
    "            GSoTList.append(str(GSoT[i]).split('\">', 1)[1].split('</', 1)[0])\n",
    "        for i in range(0, r):\n",
    "            DistList.append(str(Dist[i]).split('\">', 1)[1].split('</', 1)[0])\n",
    "        for i in range(0, r):\n",
    "            FKList.append(str(FK[i]).split('\">', 1)[1].split('</', 1)[0])\n",
    "\n",
    "        #Passing\n",
    "        for i in range(0, r):\n",
    "            CmpList.append(str(Cmp[i]).split('\">', 1)[1].split('</', 1)[0])\n",
    "        for i in range(0, r):\n",
    "            AttList.append(str(Att[i]).split('\">', 1)[1].split('</', 1)[0])\n",
    "        for i in range(0, r):\n",
    "            CmpPList.append(str(CmpP[i]).split('\">', 1)[1].split('</', 1)[0])\n",
    "        for i in range(0, r):\n",
    "            TotDistList.append(str(TotDist[i]).split('\">', 1)[1].split('</', 1)[0])\n",
    "        for i in range(0, r):\n",
    "            PrgDistList.append(str(PrgDist[i]).split('\">', 1)[1].split('</', 1)[0])\n",
    "\n",
    "        #Goals and Shot Creation\n",
    "        for i in range(0, r):\n",
    "            SCAList.append(str(SCA[i]).split('\">', 1)[1].split('</', 1)[0])\n",
    "        for i in range(0, r):\n",
    "            SCA90List.append(str(SCA90[i]).split('\">', 1)[1].split('</', 1)[0])\n",
    "        for i in range(0, r):\n",
    "            SPassLiveList.append(str(SPassLive[i]).split('\">', 1)[1].split('</', 1)[0])\n",
    "        for i in range(0, r):\n",
    "            SPassDeadList.append(str(SPassDead[i]).split('\">', 1)[1].split('</', 1)[0])\n",
    "        for i in range(0, r):\n",
    "            STOList.append(str(STO[i]).split('\">', 1)[1].split('</', 1)[0])\n",
    "        for i in range(0, r):\n",
    "            SCAShList.append(str(SCASh[i]).split('\">', 1)[1].split('</', 1)[0])\n",
    "        for i in range(0, r):\n",
    "            SFldList.append(str(SFld[i]).split('\">', 1)[1].split('</', 1)[0])\n",
    "        for i in range(0, r):\n",
    "            SCADefList.append(str(SCADef[i]).split('\">', 1)[1].split('</', 1)[0])\n",
    "\n",
    "        for i in range(0, r):\n",
    "            GCAList.append(str(GCA[i]).split('\">', 1)[1].split('</', 1)[0])\n",
    "        for i in range(0, r):\n",
    "            GCA90List.append(str(GCA90[i]).split('\">', 1)[1].split('</', 1)[0])\n",
    "        for i in range(0, r):\n",
    "            GPassLiveList.append(str(GPassLive[i]).split('\">', 1)[1].split('</', 1)[0])\n",
    "        for i in range(0, r):\n",
    "            GPassDeadList.append(str(GPassDead[i]).split('\">', 1)[1].split('</', 1)[0])\n",
    "        for i in range(0, r):\n",
    "            GTOList.append(str(GTO[i]).split('\">', 1)[1].split('</', 1)[0])\n",
    "        for i in range(0, r):\n",
    "            GCAShList.append(str(GCASh[i]).split('\">', 1)[1].split('</', 1)[0])\n",
    "        for i in range(0, r):\n",
    "            GFldList.append(str(GFld[i]).split('\">', 1)[1].split('</', 1)[0])\n",
    "        for i in range(0, r):\n",
    "            GCADefList.append(str(GCADef[i]).split('\">', 1)[1].split('</', 1)[0])\n",
    "\n",
    "        #Defense\n",
    "        for i in range(0, r):\n",
    "            TklList.append(str(Tkl[i]).split('\">', 1)[1].split('</', 1)[0])\n",
    "        for i in range(0, r):\n",
    "            TklWList.append(str(TklW[i]).split('\">', 1)[1].split('</', 1)[0])\n",
    "        for i in range(0, r):\n",
    "            CTklList.append(str(CTkl[i]).split('\">', 1)[1].split('</', 1)[0])\n",
    "        for i in range(0, r):\n",
    "            CTklPList.append(str(CTklP[i]).split('\">', 1)[1].split('</', 1)[0])\n",
    "        for i in range(0, r):\n",
    "            BlocksList.append(str(Blocks[i]).split('\">', 1)[1].split('</', 1)[0])\n",
    "        for i in range(0, r):\n",
    "            IntList.append(str(Int[i]).split('\">', 1)[1].split('</', 1)[0])\n",
    "        for i in range(0, r):\n",
    "            TklIntList.append(str(TklInt[i]).split('\">', 1)[1].split('</', 1)[0])\n",
    "        for i in range(0, r):\n",
    "            ClrList.append(str(Clr[i]).split('\">', 1)[1].split('</', 1)[0])\n",
    "        for i in range(0, r):\n",
    "            ErrList.append(str(Err[i]).split('\">', 1)[1].split('</', 1)[0])\n",
    "\n",
    "\n",
    "    df = pd.DataFrame({\n",
    "        #Identification\n",
    "        \"Player\":PlayersList,\"Age\":AgeList,\"Position\":PosList,\n",
    "        #Standard\n",
    "        \"Matches Played\":MPList,\"Start\":StartsList,\"Minutes\":MinList,\"Goals\":GoalsList,\"Assists\":AssistsList,\"Penalties Made\":PKList,\"Yellow Cards\":CrdYList,\"Red Cards\":CrdRList,\n",
    "        #Shooting\n",
    "        \"Shots\":ShList,\"Shots On Target\":SoTList,\"Shots On Target %\":SoTPList,\"Goals Per Shot\":GShList,\"Goals Per Shot On Target\":GSoTList,\"Average Shot Distance\":DistList,\"Shots From Freekicks\":FKList,\n",
    "        #Passing  \n",
    "        \"Passes Completed\":CmpList,\"Passes\":AttList,\"Pass Completion %\":CmpPList,\"Total Passing Distance\":TotDistList,\"Progressive Passing Distance\":PrgDistList,\n",
    "        #Goals and Shot Creation\n",
    "        \"Shot-Creating Actions\":SCAList,\"Shot-Creating Actions/90\":SCA90List,\"SCA Pass Live\":SPassLiveList,\"SCA Pass Dead\":SPassDeadList,\"SCA Take-ons\":STOList,\"SCA Shots\":SCAShList,\"SCA Fouls\":SFldList,\"SCA Defense\":SCADefList,\n",
    "        \"Goal-Creating Actions\":GCAList,\"Goal-Creating Actions/90\":GCA90List,\"Goal Pass Live\":GPassLiveList,\"Goal Pass Dead\":GPassDeadList,\"Goal Take-ons\":GTOList,\"Goal Shots\":GCAShList,\"Goal Fouls\":GFldList,\"Goal Defense\":GCADefList,\n",
    "        #Defense\n",
    "        \"Tackles\":TklList,\"Tackles Won\":TklWList,\"Challenges\":CTklList,\"Successful Challenge %\":CTklPList,\"Blocks\":BlocksList,\"Interceptions\":IntList,\"Tackles + Interceptions\":TklIntList,\"Clearances\":ClrList,\"Errors\":ErrList\n",
    "        })\n",
    "    \n",
    "    \n",
    "    return df"
   ]
  },
  {
   "attachments": {},
   "cell_type": "markdown",
   "metadata": {},
   "source": [
    "## Premier League"
   ]
  },
  {
   "cell_type": "code",
   "execution_count": 229,
   "metadata": {},
   "outputs": [],
   "source": [
    "team_links = get_league_links(20, \"https://fbref.com/en/comps/9/Premier-League-Stats\")"
   ]
  },
  {
   "cell_type": "code",
   "execution_count": 222,
   "metadata": {},
   "outputs": [],
   "source": [
    "df_PL = scrape_players(team_links)"
   ]
  },
  {
   "cell_type": "code",
   "execution_count": 223,
   "metadata": {},
   "outputs": [],
   "source": [
    "df_PL.to_csv('FBREF_PL.csv', index=False)"
   ]
  },
  {
   "attachments": {},
   "cell_type": "markdown",
   "metadata": {},
   "source": [
    "## La Liga"
   ]
  },
  {
   "cell_type": "code",
   "execution_count": 230,
   "metadata": {},
   "outputs": [],
   "source": [
    "team_links = get_league_links(20, \"https://fbref.com/en/comps/12/La-Liga-Stats\")"
   ]
  },
  {
   "cell_type": "code",
   "execution_count": 232,
   "metadata": {},
   "outputs": [],
   "source": [
    "df_La = scrape_players(team_links)"
   ]
  },
  {
   "cell_type": "code",
   "execution_count": 234,
   "metadata": {},
   "outputs": [],
   "source": [
    "df_La.to_csv('FBREF_La.csv', index=False)"
   ]
  },
  {
   "attachments": {},
   "cell_type": "markdown",
   "metadata": {},
   "source": [
    "## Serie A"
   ]
  },
  {
   "cell_type": "code",
   "execution_count": 235,
   "metadata": {},
   "outputs": [],
   "source": [
    "team_links = get_league_links(20, \"https://fbref.com/en/comps/11/Serie-A-Stats\")"
   ]
  },
  {
   "cell_type": "code",
   "execution_count": 236,
   "metadata": {},
   "outputs": [],
   "source": [
    "df_SA = scrape_players(team_links)"
   ]
  },
  {
   "cell_type": "code",
   "execution_count": 237,
   "metadata": {},
   "outputs": [],
   "source": [
    "df_SA.to_csv('FBREF_SA.csv', index=False)"
   ]
  },
  {
   "attachments": {},
   "cell_type": "markdown",
   "metadata": {},
   "source": [
    "## Bundasliga"
   ]
  },
  {
   "cell_type": "code",
   "execution_count": 238,
   "metadata": {},
   "outputs": [],
   "source": [
    "team_links = get_league_links(20, \"https://fbref.com/en/comps/20/Bundesliga-Stats\")"
   ]
  },
  {
   "cell_type": "code",
   "execution_count": 239,
   "metadata": {},
   "outputs": [],
   "source": [
    "df_Bu = scrape_players(team_links)"
   ]
  },
  {
   "cell_type": "code",
   "execution_count": 240,
   "metadata": {},
   "outputs": [],
   "source": [
    "df_Bu.to_csv('FBREF_Bu.csv', index=False)"
   ]
  },
  {
   "attachments": {},
   "cell_type": "markdown",
   "metadata": {},
   "source": [
    "## Ligue 1"
   ]
  },
  {
   "cell_type": "code",
   "execution_count": null,
   "metadata": {},
   "outputs": [],
   "source": [
    "team_links = get_league_links(20, \"https://fbref.com/en/comps/13/Ligue-1-Stats\")"
   ]
  },
  {
   "cell_type": "code",
   "execution_count": null,
   "metadata": {},
   "outputs": [],
   "source": [
    "df_L1 = scrape_players(team_links)"
   ]
  },
  {
   "cell_type": "code",
   "execution_count": null,
   "metadata": {},
   "outputs": [],
   "source": [
    "df_L1.to_csv('FBREF_L1.csv', index=False)"
   ]
  }
 ],
 "metadata": {
  "kernelspec": {
   "display_name": "Python 3",
   "language": "python",
   "name": "python3"
  },
  "language_info": {
   "codemirror_mode": {
    "name": "ipython",
    "version": 3
   },
   "file_extension": ".py",
   "mimetype": "text/x-python",
   "name": "python",
   "nbconvert_exporter": "python",
   "pygments_lexer": "ipython3",
   "version": "3.9.6"
  },
  "orig_nbformat": 4
 },
 "nbformat": 4,
 "nbformat_minor": 2
}
