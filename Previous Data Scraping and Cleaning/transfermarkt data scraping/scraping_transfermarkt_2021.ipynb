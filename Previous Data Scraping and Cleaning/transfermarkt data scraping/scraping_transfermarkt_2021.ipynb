{
 "cells": [
  {
   "cell_type": "markdown",
   "metadata": {},
   "source": [
    "# Scraping Transfermarkt"
   ]
  },
  {
   "cell_type": "code",
   "execution_count": 90,
   "metadata": {},
   "outputs": [],
   "source": [
    "import requests\n",
    "from bs4 import BeautifulSoup\n",
    "import pandas as pd"
   ]
  },
  {
   "attachments": {},
   "cell_type": "markdown",
   "metadata": {},
   "source": [
    "# Functions"
   ]
  },
  {
   "cell_type": "code",
   "execution_count": 116,
   "metadata": {},
   "outputs": [],
   "source": [
    "def top_n_leagues(n):\n",
    "    headers = {'User-Agent': 'Mozilla/5.0 (X11; Linux x86_64) AppleWebKit/537.36 (KHTML, like Gecko) Chrome/47.0.2526.106 Safari/537.36'}\n",
    "\n",
    "    page = \"https://www.transfermarkt.co.uk/wettbewerbe/europa\"\n",
    "    pageTree = requests.get(page, headers=headers)\n",
    "    pageSoup = BeautifulSoup(pageTree.content, 'html.parser')\n",
    "\n",
    "    LeagueList = []\n",
    "    League = pageSoup.find_all(\"img\", {\"class\": \"continental-league-emblem\"})\n",
    "\n",
    "    if n > len(League):\n",
    "        print(\"There is not that many leagues\")\n",
    "    else:\n",
    "        for i in range(0,n):\n",
    "            LeagueList.append(str(League[i]).split('\" class',1)[0].split('<img alt=\"',1)[1])\n",
    "\n",
    "    return LeagueList"
   ]
  },
  {
   "cell_type": "code",
   "execution_count": 117,
   "metadata": {},
   "outputs": [],
   "source": [
    "def top_n_leagues_links(n):\n",
    "    headers = {'User-Agent': 'Mozilla/5.0 (X11; Linux x86_64) AppleWebKit/537.36 (KHTML, like Gecko) Chrome/47.0.2526.106 Safari/537.36'}\n",
    "\n",
    "    page = \"https://www.transfermarkt.co.uk/wettbewerbe/europa\"\n",
    "    pageTree = requests.get(page, headers=headers)\n",
    "    pageSoup = BeautifulSoup(pageTree.content, 'html.parser')\n",
    "\n",
    "    LeagueList = []\n",
    "\n",
    "    for name in n:\n",
    "        League = pageSoup.find_all(\"a\", {\"title\": name})\n",
    "        for i in range(0,len(League)):\n",
    "            LeagueList.append(\"https://www.transfermarkt.co.uk\" + str(League[i]).split('\" title', 1)[0].split('href=\"', 1)[1])\n",
    "\n",
    "    return LeagueList"
   ]
  },
  {
   "cell_type": "code",
   "execution_count": 147,
   "metadata": {},
   "outputs": [],
   "source": [
    "# Prints names only\n",
    "def team_names(links):\n",
    "    headers = {'User-Agent': 'Mozilla/5.0 (X11; Linux x86_64) AppleWebKit/537.36 (KHTML, like Gecko) Chrome/47.0.2526.106 Safari/537.36'}\n",
    "    \n",
    "    TeamList = []\n",
    "\n",
    "    for link in links:\n",
    "        page = link\n",
    "        pageTree = requests.get(page, headers=headers)\n",
    "        pageSoup = BeautifulSoup(pageTree.content, 'html.parser')\n",
    "\n",
    "        Team = pageSoup.find_all(\"img\", {\"class\": \"tiny_wappen\"})\n",
    "\n",
    "        for i in range(0,len(Team)):\n",
    "            TeamList.append(str(Team[i]).split('\" class',1)[0].split('<img alt=\"',1)[1])\n",
    "\n",
    "    return TeamList"
   ]
  },
  {
   "cell_type": "code",
   "execution_count": 119,
   "metadata": {},
   "outputs": [],
   "source": [
    "# Prints link only\n",
    "def team_links(links, team_names):\n",
    "    headers = {'User-Agent': 'Mozilla/5.0 (X11; Linux x86_64) AppleWebKit/537.36 (KHTML, like Gecko) Chrome/47.0.2526.106 Safari/537.36'}\n",
    "    TeamList = []\n",
    "\n",
    "    for link in links:\n",
    "        page = link\n",
    "        pageTree = requests.get(page, headers=headers)\n",
    "        pageSoup = BeautifulSoup(pageTree.content, 'html.parser')\n",
    "\n",
    "        for name in team_names:\n",
    "            Team = pageSoup.find_all(\"a\", {\"title\": name})\n",
    "            x = 0\n",
    "            for i in range(0,len(Team)):\n",
    "                TeamList.append(\"https://www.transfermarkt.co.uk\" + str(Team[i]).split('\" title',1)[0].split('href=\"', 1)[1])\n",
    "                x += 1\n",
    "                if x > 0:\n",
    "                    break\n",
    "\n",
    "    return TeamList"
   ]
  },
  {
   "cell_type": "code",
   "execution_count": 120,
   "metadata": {},
   "outputs": [],
   "source": [
    "def build_df(links):\n",
    "\n",
    "    PlayersList = []\n",
    "    AgeList=[]\n",
    "    NationList=[]\n",
    "    ValuesList = []\n",
    "    PositionsList=[]\n",
    "    ClubList = []\n",
    "\n",
    "    for a in links:\n",
    "        headers = {'User-Agent': 'Mozilla/5.0 (X11; Linux x86_64) AppleWebKit/537.36 (KHTML, like Gecko) Chrome/47.0.2526.106 Safari/537.36'}\n",
    "        page = a\n",
    "        pageTree = requests.get(page, headers=headers)\n",
    "        pageSoup = BeautifulSoup(pageTree.content, 'html.parser')\n",
    "\n",
    "        Players = pageSoup.find_all(\"img\", {\"class\": \"bilderrahmen-fixed lazy lazy\"})\n",
    "        \n",
    "        Values = pageSoup.find_all(\"td\", {\"class\": \"rechts hauptlink\"})\n",
    "\n",
    "        for i in range(0,len(Values)):\n",
    "            ValuesList.append(Values[i].text)\n",
    "\n",
    "        for i in range(0,len(Players)):\n",
    "            #print(str(Players[i]).split('\" class',1)[0].split('<img alt=\"',1)[1], Values[i].text)\n",
    "            PlayersList.append(str(Players[i]).split('\" class',1)[0].split('<img alt=\"',1)[1])\n",
    "\n",
    "    df= pd.DataFrame({\"Players\":PlayersList, \"Values\":ValuesList,})\n",
    "\n",
    "\n",
    "    df.loc[(df.Values == '\\xa0'),'Values']= None\n",
    "        \n",
    "    return df"
   ]
  },
  {
   "attachments": {},
   "cell_type": "markdown",
   "metadata": {},
   "source": [
    "# Premier League"
   ]
  },
  {
   "cell_type": "code",
   "execution_count": 96,
   "metadata": {},
   "outputs": [
    {
     "data": {
      "text/plain": [
       "['Premier League']"
      ]
     },
     "execution_count": 96,
     "metadata": {},
     "output_type": "execute_result"
    }
   ],
   "source": [
    "leagues = top_n_leagues(1)\n",
    "leagues"
   ]
  },
  {
   "cell_type": "code",
   "execution_count": 97,
   "metadata": {},
   "outputs": [
    {
     "data": {
      "text/plain": [
       "['https://www.transfermarkt.co.uk/premier-league/startseite/wettbewerb/GB1']"
      ]
     },
     "execution_count": 97,
     "metadata": {},
     "output_type": "execute_result"
    }
   ],
   "source": [
    "league_links = top_n_leagues_links(leagues)\n",
    "league_links"
   ]
  },
  {
   "cell_type": "code",
   "execution_count": 98,
   "metadata": {},
   "outputs": [
    {
     "data": {
      "text/plain": [
       "['Manchester City',\n",
       " 'Arsenal FC',\n",
       " 'Chelsea FC',\n",
       " 'Liverpool FC',\n",
       " 'Manchester United',\n",
       " 'Tottenham Hotspur',\n",
       " 'Newcastle United',\n",
       " 'Aston Villa',\n",
       " 'Brighton &amp; Hove Albion',\n",
       " 'West Ham United',\n",
       " 'Brentford FC',\n",
       " 'Wolverhampton Wanderers',\n",
       " 'Everton FC',\n",
       " 'Nottingham Forest',\n",
       " 'Crystal Palace',\n",
       " 'AFC Bournemouth',\n",
       " 'Fulham FC',\n",
       " 'Burnley FC',\n",
       " 'Sheffield United',\n",
       " 'Luton Town',\n",
       " 'Arsenal FC',\n",
       " 'Newcastle United',\n",
       " 'Brentford FC',\n",
       " 'Burnley FC',\n",
       " 'Luton Town',\n",
       " 'AFC Bournemouth',\n",
       " 'Manchester United',\n",
       " 'Fulham FC',\n",
       " 'Crystal Palace',\n",
       " 'Nottingham Forest',\n",
       " 'Everton FC',\n",
       " 'Chelsea FC',\n",
       " 'Wolverhampton Wanderers',\n",
       " 'Aston Villa',\n",
       " 'West Ham United',\n",
       " 'Sheffield United',\n",
       " 'Manchester City',\n",
       " 'Tottenham Hotspur',\n",
       " 'Liverpool FC',\n",
       " 'Brighton &amp; Hove Albion']"
      ]
     },
     "execution_count": 98,
     "metadata": {},
     "output_type": "execute_result"
    }
   ],
   "source": [
    "team_names = team_names(league_links)\n",
    "team_names"
   ]
  },
  {
   "cell_type": "code",
   "execution_count": 102,
   "metadata": {},
   "outputs": [
    {
     "data": {
      "text/plain": [
       "['https://www.transfermarkt.co.uk/manchester-city/startseite/verein/281/saison_id/2021',\n",
       " 'https://www.transfermarkt.co.uk/fc-arsenal/startseite/verein/11/saison_id/2021',\n",
       " 'https://www.transfermarkt.co.uk/fc-chelsea/startseite/verein/631/saison_id/2021',\n",
       " 'https://www.transfermarkt.co.uk/fc-liverpool/startseite/verein/31/saison_id/2021',\n",
       " 'https://www.transfermarkt.co.uk/manchester-united/startseite/verein/985/saison_id/2021',\n",
       " 'https://www.transfermarkt.co.uk/tottenham-hotspur/startseite/verein/148/saison_id/2021',\n",
       " 'https://www.transfermarkt.co.uk/newcastle-united/startseite/verein/762/saison_id/2021',\n",
       " 'https://www.transfermarkt.co.uk/aston-villa/startseite/verein/405/saison_id/2021',\n",
       " 'https://www.transfermarkt.co.uk/west-ham-united/startseite/verein/379/saison_id/2021',\n",
       " 'https://www.transfermarkt.co.uk/fc-brentford/startseite/verein/1148/saison_id/2021',\n",
       " 'https://www.transfermarkt.co.uk/wolverhampton-wanderers/startseite/verein/543/saison_id/2021',\n",
       " 'https://www.transfermarkt.co.uk/fc-everton/startseite/verein/29/saison_id/2021',\n",
       " 'https://www.transfermarkt.co.uk/nottingham-forest/startseite/verein/703/saison_id/2021',\n",
       " 'https://www.transfermarkt.co.uk/crystal-palace/startseite/verein/873/saison_id/2021',\n",
       " 'https://www.transfermarkt.co.uk/afc-bournemouth/startseite/verein/989/saison_id/2021',\n",
       " 'https://www.transfermarkt.co.uk/fc-fulham/startseite/verein/931/saison_id/2021',\n",
       " 'https://www.transfermarkt.co.uk/fc-burnley/startseite/verein/1132/saison_id/2021',\n",
       " 'https://www.transfermarkt.co.uk/sheffield-united/startseite/verein/350/saison_id/2021',\n",
       " 'https://www.transfermarkt.co.uk/luton-town/startseite/verein/1031/saison_id/2021',\n",
       " 'https://www.transfermarkt.co.uk/fc-arsenal/startseite/verein/11/saison_id/2021']"
      ]
     },
     "execution_count": 102,
     "metadata": {},
     "output_type": "execute_result"
    }
   ],
   "source": [
    "every_team_links = team_links(league_links, team_names)\n",
    "for i in range(len(every_team_links)):\n",
    "    if not every_team_links[i].endswith('2023'):\n",
    "        every_team_links[i] += '/saison_id/2023'\n",
    "\n",
    "every_team_links = [s[:-1] + '1' for s in every_team_links]\n",
    "every_team_links = every_team_links[0:20]\n",
    "every_team_links"
   ]
  },
  {
   "cell_type": "code",
   "execution_count": 107,
   "metadata": {},
   "outputs": [],
   "source": [
    "df = build_df(every_team_links)"
   ]
  },
  {
   "cell_type": "code",
   "execution_count": 109,
   "metadata": {},
   "outputs": [
    {
     "data": {
      "text/html": [
       "<div>\n",
       "<style scoped>\n",
       "    .dataframe tbody tr th:only-of-type {\n",
       "        vertical-align: middle;\n",
       "    }\n",
       "\n",
       "    .dataframe tbody tr th {\n",
       "        vertical-align: top;\n",
       "    }\n",
       "\n",
       "    .dataframe thead th {\n",
       "        text-align: right;\n",
       "    }\n",
       "</style>\n",
       "<table border=\"1\" class=\"dataframe\">\n",
       "  <thead>\n",
       "    <tr style=\"text-align: right;\">\n",
       "      <th></th>\n",
       "      <th>Players</th>\n",
       "      <th>Values</th>\n",
       "    </tr>\n",
       "  </thead>\n",
       "  <tbody>\n",
       "    <tr>\n",
       "      <th>0</th>\n",
       "      <td>Ederson</td>\n",
       "      <td>€45.00m</td>\n",
       "    </tr>\n",
       "    <tr>\n",
       "      <th>1</th>\n",
       "      <td>Zack Steffen</td>\n",
       "      <td>€6.00m</td>\n",
       "    </tr>\n",
       "    <tr>\n",
       "      <th>2</th>\n",
       "      <td>Scott Carson</td>\n",
       "      <td>€300k</td>\n",
       "    </tr>\n",
       "    <tr>\n",
       "      <th>4</th>\n",
       "      <td>Rúben Dias</td>\n",
       "      <td>€75.00m</td>\n",
       "    </tr>\n",
       "    <tr>\n",
       "      <th>5</th>\n",
       "      <td>Aymeric Laporte</td>\n",
       "      <td>€45.00m</td>\n",
       "    </tr>\n",
       "    <tr>\n",
       "      <th>...</th>\n",
       "      <td>...</td>\n",
       "      <td>...</td>\n",
       "    </tr>\n",
       "    <tr>\n",
       "      <th>797</th>\n",
       "      <td>Eddie Nketiah</td>\n",
       "      <td>€16.00m</td>\n",
       "    </tr>\n",
       "    <tr>\n",
       "      <th>798</th>\n",
       "      <td>Pierre-Emerick Aubameyang</td>\n",
       "      <td>€15.00m</td>\n",
       "    </tr>\n",
       "    <tr>\n",
       "      <th>799</th>\n",
       "      <td>Alexandre Lacazette</td>\n",
       "      <td>€15.00m</td>\n",
       "    </tr>\n",
       "    <tr>\n",
       "      <th>800</th>\n",
       "      <td>Folarin Balogun</td>\n",
       "      <td>€4.00m</td>\n",
       "    </tr>\n",
       "    <tr>\n",
       "      <th>801</th>\n",
       "      <td>Mika Biereth</td>\n",
       "      <td>€600k</td>\n",
       "    </tr>\n",
       "  </tbody>\n",
       "</table>\n",
       "<p>714 rows × 2 columns</p>\n",
       "</div>"
      ],
      "text/plain": [
       "                       Players    Values\n",
       "0                      Ederson  €45.00m \n",
       "1                 Zack Steffen   €6.00m \n",
       "2                 Scott Carson    €300k \n",
       "4                   Rúben Dias  €75.00m \n",
       "5              Aymeric Laporte  €45.00m \n",
       "..                         ...       ...\n",
       "797              Eddie Nketiah  €16.00m \n",
       "798  Pierre-Emerick Aubameyang  €15.00m \n",
       "799        Alexandre Lacazette  €15.00m \n",
       "800            Folarin Balogun   €4.00m \n",
       "801               Mika Biereth    €600k \n",
       "\n",
       "[714 rows x 2 columns]"
      ]
     },
     "execution_count": 109,
     "metadata": {},
     "output_type": "execute_result"
    }
   ],
   "source": [
    "df = df.dropna()\n",
    "df"
   ]
  },
  {
   "cell_type": "code",
   "execution_count": 110,
   "metadata": {},
   "outputs": [],
   "source": [
    "df.to_csv('PL2021.csv', index=False)"
   ]
  },
  {
   "attachments": {},
   "cell_type": "markdown",
   "metadata": {},
   "source": [
    "# La Liga"
   ]
  },
  {
   "cell_type": "code",
   "execution_count": 150,
   "metadata": {},
   "outputs": [
    {
     "data": {
      "text/plain": [
       "['LaLiga']"
      ]
     },
     "execution_count": 150,
     "metadata": {},
     "output_type": "execute_result"
    }
   ],
   "source": [
    "leagues = top_n_leagues(5)\n",
    "leagues = leagues[1:-3]\n",
    "leagues"
   ]
  },
  {
   "cell_type": "code",
   "execution_count": 151,
   "metadata": {},
   "outputs": [
    {
     "data": {
      "text/plain": [
       "['https://www.transfermarkt.co.uk/laliga/startseite/wettbewerb/ES1']"
      ]
     },
     "execution_count": 151,
     "metadata": {},
     "output_type": "execute_result"
    }
   ],
   "source": [
    "league_links = top_n_leagues_links(leagues)\n",
    "league_links"
   ]
  },
  {
   "cell_type": "code",
   "execution_count": 152,
   "metadata": {},
   "outputs": [
    {
     "data": {
      "text/plain": [
       "['Real Madrid',\n",
       " 'FC Barcelona',\n",
       " 'Atlético de Madrid',\n",
       " 'Real Sociedad',\n",
       " 'Villarreal CF',\n",
       " 'Real Betis Balompié',\n",
       " 'Sevilla FC',\n",
       " 'Athletic Bilbao',\n",
       " 'Valencia CF',\n",
       " 'CA Osasuna',\n",
       " 'Celta de Vigo',\n",
       " 'Getafe CF',\n",
       " 'UD Almería',\n",
       " 'Girona FC',\n",
       " 'RCD Mallorca',\n",
       " 'Rayo Vallecano',\n",
       " 'Cádiz CF',\n",
       " 'Granada CF',\n",
       " 'UD Las Palmas',\n",
       " 'Deportivo Alavés',\n",
       " 'Atlético de Madrid',\n",
       " 'Celta de Vigo',\n",
       " 'Girona FC',\n",
       " 'Getafe CF',\n",
       " 'UD Almería',\n",
       " 'Cádiz CF',\n",
       " 'Deportivo Alavés',\n",
       " 'Villarreal CF',\n",
       " 'Valencia CF',\n",
       " 'Real Sociedad',\n",
       " 'FC Barcelona',\n",
       " 'Athletic Bilbao',\n",
       " 'UD Las Palmas',\n",
       " 'Real Madrid',\n",
       " 'Sevilla FC',\n",
       " 'Rayo Vallecano',\n",
       " 'CA Osasuna',\n",
       " 'RCD Mallorca',\n",
       " 'Real Betis Balompié',\n",
       " 'Granada CF']"
      ]
     },
     "execution_count": 152,
     "metadata": {},
     "output_type": "execute_result"
    }
   ],
   "source": [
    "# Prints names only\n",
    "def team_names(links):\n",
    "    headers = {'User-Agent': 'Mozilla/5.0 (X11; Linux x86_64) AppleWebKit/537.36 (KHTML, like Gecko) Chrome/47.0.2526.106 Safari/537.36'}\n",
    "    \n",
    "    TeamList = []\n",
    "\n",
    "    for link in links:\n",
    "        page = link\n",
    "        pageTree = requests.get(page, headers=headers)\n",
    "        pageSoup = BeautifulSoup(pageTree.content, 'html.parser')\n",
    "\n",
    "        Team = pageSoup.find_all(\"img\", {\"class\": \"tiny_wappen\"})\n",
    "\n",
    "        for i in range(0,len(Team)):\n",
    "            TeamList.append(str(Team[i]).split('\" class',1)[0].split('<img alt=\"',1)[1])\n",
    "\n",
    "    return TeamList\n",
    "\n",
    "team_names = team_names(league_links)\n",
    "team_names"
   ]
  },
  {
   "cell_type": "code",
   "execution_count": 139,
   "metadata": {},
   "outputs": [
    {
     "data": {
      "text/plain": [
       "['https://www.transfermarkt.co.uk/real-madrid/startseite/verein/418/saison_id/2021',\n",
       " 'https://www.transfermarkt.co.uk/fc-barcelona/startseite/verein/131/saison_id/2021',\n",
       " 'https://www.transfermarkt.co.uk/atletico-madrid/startseite/verein/13/saison_id/2021',\n",
       " 'https://www.transfermarkt.co.uk/real-sociedad-san-sebastian/startseite/verein/681/saison_id/2021',\n",
       " 'https://www.transfermarkt.co.uk/fc-villarreal/startseite/verein/1050/saison_id/2021',\n",
       " 'https://www.transfermarkt.co.uk/real-betis-sevilla/startseite/verein/150/saison_id/2021',\n",
       " 'https://www.transfermarkt.co.uk/fc-sevilla/startseite/verein/368/saison_id/2021',\n",
       " 'https://www.transfermarkt.co.uk/athletic-bilbao/startseite/verein/621/saison_id/2021',\n",
       " 'https://www.transfermarkt.co.uk/fc-valencia/startseite/verein/1049/saison_id/2021',\n",
       " 'https://www.transfermarkt.co.uk/ca-osasuna/startseite/verein/331/saison_id/2021',\n",
       " 'https://www.transfermarkt.co.uk/celta-vigo/startseite/verein/940/saison_id/2021',\n",
       " 'https://www.transfermarkt.co.uk/fc-getafe/startseite/verein/3709/saison_id/2021',\n",
       " 'https://www.transfermarkt.co.uk/ud-almeria/startseite/verein/3302/saison_id/2021',\n",
       " 'https://www.transfermarkt.co.uk/fc-girona/startseite/verein/12321/saison_id/2021',\n",
       " 'https://www.transfermarkt.co.uk/rcd-mallorca/startseite/verein/237/saison_id/2021',\n",
       " 'https://www.transfermarkt.co.uk/rayo-vallecano/startseite/verein/367/saison_id/2021',\n",
       " 'https://www.transfermarkt.co.uk/fc-cadiz/startseite/verein/2687/saison_id/2021',\n",
       " 'https://www.transfermarkt.co.uk/fc-granada/startseite/verein/16795/saison_id/2021',\n",
       " 'https://www.transfermarkt.co.uk/ud-las-palmas/startseite/verein/472/saison_id/2021',\n",
       " 'https://www.transfermarkt.co.uk/deportivo-alaves/startseite/verein/1108/saison_id/2021']"
      ]
     },
     "execution_count": 139,
     "metadata": {},
     "output_type": "execute_result"
    }
   ],
   "source": [
    "every_team_links = team_links(league_links, team_names)\n",
    "for i in range(len(every_team_links)):\n",
    "    if not every_team_links[i].endswith('2023'):\n",
    "        every_team_links[i] += '/saison_id/2023'\n",
    "\n",
    "every_team_links = [s[:-1] + '1' for s in every_team_links]\n",
    "every_team_links = every_team_links[0:20]\n",
    "every_team_links"
   ]
  },
  {
   "cell_type": "code",
   "execution_count": 140,
   "metadata": {},
   "outputs": [],
   "source": [
    "df2 = build_df(every_team_links)"
   ]
  },
  {
   "cell_type": "code",
   "execution_count": 142,
   "metadata": {},
   "outputs": [
    {
     "data": {
      "text/html": [
       "<div>\n",
       "<style scoped>\n",
       "    .dataframe tbody tr th:only-of-type {\n",
       "        vertical-align: middle;\n",
       "    }\n",
       "\n",
       "    .dataframe tbody tr th {\n",
       "        vertical-align: top;\n",
       "    }\n",
       "\n",
       "    .dataframe thead th {\n",
       "        text-align: right;\n",
       "    }\n",
       "</style>\n",
       "<table border=\"1\" class=\"dataframe\">\n",
       "  <thead>\n",
       "    <tr style=\"text-align: right;\">\n",
       "      <th></th>\n",
       "      <th>Players</th>\n",
       "      <th>Values</th>\n",
       "    </tr>\n",
       "  </thead>\n",
       "  <tbody>\n",
       "    <tr>\n",
       "      <th>0</th>\n",
       "      <td>Thibaut Courtois</td>\n",
       "      <td>€60.00m</td>\n",
       "    </tr>\n",
       "    <tr>\n",
       "      <th>1</th>\n",
       "      <td>Andriy Lunin</td>\n",
       "      <td>€2.50m</td>\n",
       "    </tr>\n",
       "    <tr>\n",
       "      <th>2</th>\n",
       "      <td>Luis López</td>\n",
       "      <td>€300k</td>\n",
       "    </tr>\n",
       "    <tr>\n",
       "      <th>3</th>\n",
       "      <td>Toni Fuidias</td>\n",
       "      <td>€300k</td>\n",
       "    </tr>\n",
       "    <tr>\n",
       "      <th>5</th>\n",
       "      <td>Éder Militão</td>\n",
       "      <td>€60.00m</td>\n",
       "    </tr>\n",
       "    <tr>\n",
       "      <th>...</th>\n",
       "      <td>...</td>\n",
       "      <td>...</td>\n",
       "    </tr>\n",
       "    <tr>\n",
       "      <th>774</th>\n",
       "      <td>Mamadou Sylla</td>\n",
       "      <td>€1.20m</td>\n",
       "    </tr>\n",
       "    <tr>\n",
       "      <th>775</th>\n",
       "      <td>John Guidetti</td>\n",
       "      <td>€1.00m</td>\n",
       "    </tr>\n",
       "    <tr>\n",
       "      <th>776</th>\n",
       "      <td>Marc Tenas</td>\n",
       "      <td>€500k</td>\n",
       "    </tr>\n",
       "    <tr>\n",
       "      <th>777</th>\n",
       "      <td>Giorgi Gagua</td>\n",
       "      <td>€150k</td>\n",
       "    </tr>\n",
       "    <tr>\n",
       "      <th>778</th>\n",
       "      <td>Alan Godoy</td>\n",
       "      <td>€100k</td>\n",
       "    </tr>\n",
       "  </tbody>\n",
       "</table>\n",
       "<p>713 rows × 2 columns</p>\n",
       "</div>"
      ],
      "text/plain": [
       "              Players    Values\n",
       "0    Thibaut Courtois  €60.00m \n",
       "1        Andriy Lunin   €2.50m \n",
       "2          Luis López    €300k \n",
       "3        Toni Fuidias    €300k \n",
       "5        Éder Militão  €60.00m \n",
       "..                ...       ...\n",
       "774     Mamadou Sylla   €1.20m \n",
       "775     John Guidetti   €1.00m \n",
       "776        Marc Tenas    €500k \n",
       "777      Giorgi Gagua    €150k \n",
       "778        Alan Godoy    €100k \n",
       "\n",
       "[713 rows x 2 columns]"
      ]
     },
     "execution_count": 142,
     "metadata": {},
     "output_type": "execute_result"
    }
   ],
   "source": [
    "df2 = df2.dropna()\n",
    "df2"
   ]
  },
  {
   "cell_type": "code",
   "execution_count": 143,
   "metadata": {},
   "outputs": [],
   "source": [
    "df2.to_csv('La2021.csv', index=False)"
   ]
  },
  {
   "attachments": {},
   "cell_type": "markdown",
   "metadata": {},
   "source": [
    "# Serie A"
   ]
  },
  {
   "cell_type": "code",
   "execution_count": 158,
   "metadata": {},
   "outputs": [
    {
     "data": {
      "text/plain": [
       "['Serie A']"
      ]
     },
     "execution_count": 158,
     "metadata": {},
     "output_type": "execute_result"
    }
   ],
   "source": [
    "leagues = top_n_leagues(5)\n",
    "leagues = leagues[2:-2]\n",
    "leagues"
   ]
  },
  {
   "cell_type": "code",
   "execution_count": 159,
   "metadata": {},
   "outputs": [
    {
     "data": {
      "text/plain": [
       "['https://www.transfermarkt.co.uk/serie-a/startseite/wettbewerb/IT1']"
      ]
     },
     "execution_count": 159,
     "metadata": {},
     "output_type": "execute_result"
    }
   ],
   "source": [
    "league_links = top_n_leagues_links(leagues)\n",
    "league_links"
   ]
  },
  {
   "cell_type": "code",
   "execution_count": 160,
   "metadata": {},
   "outputs": [
    {
     "data": {
      "text/plain": [
       "['SSC Napoli',\n",
       " 'Inter Milan',\n",
       " 'Juventus FC',\n",
       " 'AC Milan',\n",
       " 'Atalanta BC',\n",
       " 'AS Roma',\n",
       " 'SS Lazio',\n",
       " 'ACF Fiorentina',\n",
       " 'Udinese Calcio',\n",
       " 'US Sassuolo',\n",
       " 'Torino FC',\n",
       " 'Bologna FC 1909',\n",
       " 'AC Monza',\n",
       " 'US Salernitana 1919',\n",
       " 'US Lecce',\n",
       " 'FC Empoli',\n",
       " 'Hellas Verona',\n",
       " 'Genoa CFC',\n",
       " 'Cagliari Calcio',\n",
       " 'Frosinone Calcio',\n",
       " 'AC Milan',\n",
       " 'FC Empoli',\n",
       " 'US Sassuolo',\n",
       " 'SSC Napoli',\n",
       " 'AC Monza',\n",
       " 'Cagliari Calcio',\n",
       " 'Bologna FC 1909',\n",
       " 'US Lecce',\n",
       " 'Atalanta BC',\n",
       " 'Juventus FC',\n",
       " 'AS Roma',\n",
       " 'ACF Fiorentina',\n",
       " 'Torino FC',\n",
       " 'Udinese Calcio',\n",
       " 'SS Lazio',\n",
       " 'US Salernitana 1919',\n",
       " 'Hellas Verona',\n",
       " 'Genoa CFC',\n",
       " 'Inter Milan',\n",
       " 'Frosinone Calcio']"
      ]
     },
     "execution_count": 160,
     "metadata": {},
     "output_type": "execute_result"
    }
   ],
   "source": [
    "# Prints names only\n",
    "def team_names(links):\n",
    "    headers = {'User-Agent': 'Mozilla/5.0 (X11; Linux x86_64) AppleWebKit/537.36 (KHTML, like Gecko) Chrome/47.0.2526.106 Safari/537.36'}\n",
    "    \n",
    "    TeamList = []\n",
    "\n",
    "    for link in links:\n",
    "        page = link\n",
    "        pageTree = requests.get(page, headers=headers)\n",
    "        pageSoup = BeautifulSoup(pageTree.content, 'html.parser')\n",
    "\n",
    "        Team = pageSoup.find_all(\"img\", {\"class\": \"tiny_wappen\"})\n",
    "\n",
    "        for i in range(0,len(Team)):\n",
    "            TeamList.append(str(Team[i]).split('\" class',1)[0].split('<img alt=\"',1)[1])\n",
    "\n",
    "    return TeamList\n",
    "\n",
    "team_names = team_names(league_links)\n",
    "team_names"
   ]
  },
  {
   "cell_type": "code",
   "execution_count": 161,
   "metadata": {},
   "outputs": [
    {
     "data": {
      "text/plain": [
       "['https://www.transfermarkt.co.uk/ssc-napoli/startseite/verein/6195/saison_id/2021',\n",
       " 'https://www.transfermarkt.co.uk/inter-mailand/startseite/verein/46/saison_id/2021',\n",
       " 'https://www.transfermarkt.co.uk/juventus-fc/startseite/verein/506/saison_id/2021',\n",
       " 'https://www.transfermarkt.co.uk/ac-mailand/startseite/verein/5/saison_id/2021',\n",
       " 'https://www.transfermarkt.co.uk/atalanta-bergamo/startseite/verein/800/saison_id/2021',\n",
       " 'https://www.transfermarkt.co.uk/as-rom/startseite/verein/12/saison_id/2021',\n",
       " 'https://www.transfermarkt.co.uk/lazio-rom/startseite/verein/398/saison_id/2021',\n",
       " 'https://www.transfermarkt.co.uk/ac-florenz/startseite/verein/430/saison_id/2021',\n",
       " 'https://www.transfermarkt.co.uk/udinese-calcio/startseite/verein/410/saison_id/2021',\n",
       " 'https://www.transfermarkt.co.uk/us-sassuolo/startseite/verein/6574/saison_id/2021',\n",
       " 'https://www.transfermarkt.co.uk/fc-turin/startseite/verein/416/saison_id/2021',\n",
       " 'https://www.transfermarkt.co.uk/fc-bologna/startseite/verein/1025/saison_id/2021',\n",
       " 'https://www.transfermarkt.co.uk/ac-monza/startseite/verein/2919/saison_id/2021',\n",
       " 'https://www.transfermarkt.co.uk/us-salernitana-1919/startseite/verein/380/saison_id/2021',\n",
       " 'https://www.transfermarkt.co.uk/us-lecce/startseite/verein/1005/saison_id/2021',\n",
       " 'https://www.transfermarkt.co.uk/fc-empoli/startseite/verein/749/saison_id/2021',\n",
       " 'https://www.transfermarkt.co.uk/hellas-verona/startseite/verein/276/saison_id/2021',\n",
       " 'https://www.transfermarkt.co.uk/genua-cfc/startseite/verein/252/saison_id/2021',\n",
       " 'https://www.transfermarkt.co.uk/cagliari-calcio/startseite/verein/1390/saison_id/2021',\n",
       " 'https://www.transfermarkt.co.uk/frosinone-calcio/startseite/verein/8970/saison_id/2021']"
      ]
     },
     "execution_count": 161,
     "metadata": {},
     "output_type": "execute_result"
    }
   ],
   "source": [
    "every_team_links = team_links(league_links, team_names)\n",
    "for i in range(len(every_team_links)):\n",
    "    if not every_team_links[i].endswith('2023'):\n",
    "        every_team_links[i] += '/saison_id/2023'\n",
    "\n",
    "every_team_links = [s[:-1] + '1' for s in every_team_links]\n",
    "every_team_links = every_team_links[0:20]\n",
    "every_team_links"
   ]
  },
  {
   "cell_type": "code",
   "execution_count": 162,
   "metadata": {},
   "outputs": [],
   "source": [
    "df3 = build_df(every_team_links)"
   ]
  },
  {
   "cell_type": "code",
   "execution_count": 163,
   "metadata": {},
   "outputs": [
    {
     "data": {
      "text/html": [
       "<div>\n",
       "<style scoped>\n",
       "    .dataframe tbody tr th:only-of-type {\n",
       "        vertical-align: middle;\n",
       "    }\n",
       "\n",
       "    .dataframe tbody tr th {\n",
       "        vertical-align: top;\n",
       "    }\n",
       "\n",
       "    .dataframe thead th {\n",
       "        text-align: right;\n",
       "    }\n",
       "</style>\n",
       "<table border=\"1\" class=\"dataframe\">\n",
       "  <thead>\n",
       "    <tr style=\"text-align: right;\">\n",
       "      <th></th>\n",
       "      <th>Players</th>\n",
       "      <th>Values</th>\n",
       "    </tr>\n",
       "  </thead>\n",
       "  <tbody>\n",
       "    <tr>\n",
       "      <th>0</th>\n",
       "      <td>Alex Meret</td>\n",
       "      <td>€10.00m</td>\n",
       "    </tr>\n",
       "    <tr>\n",
       "      <th>1</th>\n",
       "      <td>David Ospina</td>\n",
       "      <td>€5.00m</td>\n",
       "    </tr>\n",
       "    <tr>\n",
       "      <th>2</th>\n",
       "      <td>Hubert Idasiak</td>\n",
       "      <td>€150k</td>\n",
       "    </tr>\n",
       "    <tr>\n",
       "      <th>3</th>\n",
       "      <td>Davide Marfella</td>\n",
       "      <td>€50k</td>\n",
       "    </tr>\n",
       "    <tr>\n",
       "      <th>5</th>\n",
       "      <td>Kalidou Koulibaly</td>\n",
       "      <td>€35.00m</td>\n",
       "    </tr>\n",
       "    <tr>\n",
       "      <th>...</th>\n",
       "      <td>...</td>\n",
       "      <td>...</td>\n",
       "    </tr>\n",
       "    <tr>\n",
       "      <th>822</th>\n",
       "      <td>Andrija Novakovich</td>\n",
       "      <td>€1.00m</td>\n",
       "    </tr>\n",
       "    <tr>\n",
       "      <th>823</th>\n",
       "      <td>Pietro Iemmello</td>\n",
       "      <td>€750k</td>\n",
       "    </tr>\n",
       "    <tr>\n",
       "      <th>824</th>\n",
       "      <td>Camillo Ciano</td>\n",
       "      <td>€500k</td>\n",
       "    </tr>\n",
       "    <tr>\n",
       "      <th>825</th>\n",
       "      <td>Alexander Satariano</td>\n",
       "      <td>€150k</td>\n",
       "    </tr>\n",
       "    <tr>\n",
       "      <th>826</th>\n",
       "      <td>Simone Stampete</td>\n",
       "      <td>€100k</td>\n",
       "    </tr>\n",
       "  </tbody>\n",
       "</table>\n",
       "<p>801 rows × 2 columns</p>\n",
       "</div>"
      ],
      "text/plain": [
       "                 Players    Values\n",
       "0             Alex Meret  €10.00m \n",
       "1           David Ospina   €5.00m \n",
       "2         Hubert Idasiak    €150k \n",
       "3        Davide Marfella     €50k \n",
       "5      Kalidou Koulibaly  €35.00m \n",
       "..                   ...       ...\n",
       "822   Andrija Novakovich   €1.00m \n",
       "823      Pietro Iemmello    €750k \n",
       "824        Camillo Ciano    €500k \n",
       "825  Alexander Satariano    €150k \n",
       "826      Simone Stampete    €100k \n",
       "\n",
       "[801 rows x 2 columns]"
      ]
     },
     "execution_count": 163,
     "metadata": {},
     "output_type": "execute_result"
    }
   ],
   "source": [
    "df3 = df3.dropna()\n",
    "df3"
   ]
  },
  {
   "cell_type": "code",
   "execution_count": 164,
   "metadata": {},
   "outputs": [],
   "source": [
    "df3.to_csv('SA2021.csv', index=False)"
   ]
  },
  {
   "attachments": {},
   "cell_type": "markdown",
   "metadata": {},
   "source": [
    "# Bundasliga"
   ]
  },
  {
   "cell_type": "code",
   "execution_count": 165,
   "metadata": {},
   "outputs": [
    {
     "data": {
      "text/plain": [
       "['Bundesliga']"
      ]
     },
     "execution_count": 165,
     "metadata": {},
     "output_type": "execute_result"
    }
   ],
   "source": [
    "leagues = top_n_leagues(5)\n",
    "leagues = leagues[3:-1]\n",
    "leagues"
   ]
  },
  {
   "cell_type": "code",
   "execution_count": 169,
   "metadata": {},
   "outputs": [
    {
     "data": {
      "text/plain": [
       "['https://www.transfermarkt.co.uk/bundesliga/startseite/wettbewerb/L1']"
      ]
     },
     "execution_count": 169,
     "metadata": {},
     "output_type": "execute_result"
    }
   ],
   "source": [
    "league_links = top_n_leagues_links(leagues)\n",
    "league_links = league_links[0:1]\n",
    "league_links"
   ]
  },
  {
   "cell_type": "code",
   "execution_count": 170,
   "metadata": {},
   "outputs": [
    {
     "data": {
      "text/plain": [
       "['Bayern Munich',\n",
       " 'Bayer 04 Leverkusen',\n",
       " 'Borussia Dortmund',\n",
       " 'RB Leipzig',\n",
       " 'Eintracht Frankfurt',\n",
       " 'VfL Wolfsburg',\n",
       " 'SC Freiburg',\n",
       " 'Borussia Mönchengladbach',\n",
       " '1.FC Union Berlin',\n",
       " 'FC Augsburg',\n",
       " 'VfB Stuttgart',\n",
       " '1.FSV Mainz 05',\n",
       " 'TSG 1899 Hoffenheim',\n",
       " 'SV Werder Bremen',\n",
       " '1.FC Köln',\n",
       " 'VfL Bochum',\n",
       " '1.FC Heidenheim 1846',\n",
       " 'SV Darmstadt 98',\n",
       " '1.FC Köln',\n",
       " 'VfL Wolfsburg',\n",
       " '1.FC Heidenheim 1846',\n",
       " 'TSG 1899 Hoffenheim',\n",
       " 'FC Augsburg',\n",
       " 'SV Darmstadt 98',\n",
       " '1.FC Union Berlin',\n",
       " 'SV Werder Bremen',\n",
       " 'VfL Bochum',\n",
       " 'Bayer 04 Leverkusen',\n",
       " 'VfB Stuttgart',\n",
       " 'SC Freiburg',\n",
       " '1.FSV Mainz 05',\n",
       " 'Bayern Munich',\n",
       " 'Eintracht Frankfurt',\n",
       " 'Borussia Mönchengladbach',\n",
       " 'Borussia Dortmund',\n",
       " 'RB Leipzig']"
      ]
     },
     "execution_count": 170,
     "metadata": {},
     "output_type": "execute_result"
    }
   ],
   "source": [
    "# Prints names only\n",
    "def team_names(links):\n",
    "    headers = {'User-Agent': 'Mozilla/5.0 (X11; Linux x86_64) AppleWebKit/537.36 (KHTML, like Gecko) Chrome/47.0.2526.106 Safari/537.36'}\n",
    "    \n",
    "    TeamList = []\n",
    "\n",
    "    for link in links:\n",
    "        page = link\n",
    "        pageTree = requests.get(page, headers=headers)\n",
    "        pageSoup = BeautifulSoup(pageTree.content, 'html.parser')\n",
    "\n",
    "        Team = pageSoup.find_all(\"img\", {\"class\": \"tiny_wappen\"})\n",
    "\n",
    "        for i in range(0,len(Team)):\n",
    "            TeamList.append(str(Team[i]).split('\" class',1)[0].split('<img alt=\"',1)[1])\n",
    "\n",
    "    return TeamList\n",
    "\n",
    "team_names = team_names(league_links)\n",
    "team_names"
   ]
  },
  {
   "cell_type": "code",
   "execution_count": 171,
   "metadata": {},
   "outputs": [
    {
     "data": {
      "text/plain": [
       "['https://www.transfermarkt.co.uk/bayern-munich/startseite/verein/27/saison_id/2021',\n",
       " 'https://www.transfermarkt.co.uk/bayer-04-leverkusen/startseite/verein/15/saison_id/2021',\n",
       " 'https://www.transfermarkt.co.uk/borussia-dortmund/startseite/verein/16/saison_id/2021',\n",
       " 'https://www.transfermarkt.co.uk/rasenballsport-leipzig/startseite/verein/23826/saison_id/2021',\n",
       " 'https://www.transfermarkt.co.uk/eintracht-frankfurt/startseite/verein/24/saison_id/2021',\n",
       " 'https://www.transfermarkt.co.uk/vfl-wolfsburg/startseite/verein/82/saison_id/2021',\n",
       " 'https://www.transfermarkt.co.uk/sc-freiburg/startseite/verein/60/saison_id/2021',\n",
       " 'https://www.transfermarkt.co.uk/borussia-monchengladbach/startseite/verein/18/saison_id/2021',\n",
       " 'https://www.transfermarkt.co.uk/1-fc-union-berlin/startseite/verein/89/saison_id/2021',\n",
       " 'https://www.transfermarkt.co.uk/fc-augsburg/startseite/verein/167/saison_id/2021',\n",
       " 'https://www.transfermarkt.co.uk/vfb-stuttgart/startseite/verein/79/saison_id/2021',\n",
       " 'https://www.transfermarkt.co.uk/1-fsv-mainz-05/startseite/verein/39/saison_id/2021',\n",
       " 'https://www.transfermarkt.co.uk/tsg-1899-hoffenheim/startseite/verein/533/saison_id/2021',\n",
       " 'https://www.transfermarkt.co.uk/sv-werder-bremen/startseite/verein/86/saison_id/2021',\n",
       " 'https://www.transfermarkt.co.uk/1-fc-koln/startseite/verein/3/saison_id/2021',\n",
       " 'https://www.transfermarkt.co.uk/vfl-bochum/startseite/verein/80/saison_id/2021',\n",
       " 'https://www.transfermarkt.co.uk/1-fc-heidenheim-1846/startseite/verein/2036/saison_id/2021',\n",
       " 'https://www.transfermarkt.co.uk/sv-darmstadt-98/startseite/verein/105/saison_id/2021']"
      ]
     },
     "execution_count": 171,
     "metadata": {},
     "output_type": "execute_result"
    }
   ],
   "source": [
    "every_team_links = team_links(league_links, team_names)\n",
    "for i in range(len(every_team_links)):\n",
    "    if not every_team_links[i].endswith('2023'):\n",
    "        every_team_links[i] += '/saison_id/2023'\n",
    "\n",
    "every_team_links = [s[:-1] + '1' for s in every_team_links]\n",
    "every_team_links = every_team_links[0:18]\n",
    "every_team_links"
   ]
  },
  {
   "cell_type": "code",
   "execution_count": 172,
   "metadata": {},
   "outputs": [],
   "source": [
    "df4 = build_df(every_team_links)"
   ]
  },
  {
   "cell_type": "code",
   "execution_count": 173,
   "metadata": {},
   "outputs": [
    {
     "data": {
      "text/html": [
       "<div>\n",
       "<style scoped>\n",
       "    .dataframe tbody tr th:only-of-type {\n",
       "        vertical-align: middle;\n",
       "    }\n",
       "\n",
       "    .dataframe tbody tr th {\n",
       "        vertical-align: top;\n",
       "    }\n",
       "\n",
       "    .dataframe thead th {\n",
       "        text-align: right;\n",
       "    }\n",
       "</style>\n",
       "<table border=\"1\" class=\"dataframe\">\n",
       "  <thead>\n",
       "    <tr style=\"text-align: right;\">\n",
       "      <th></th>\n",
       "      <th>Players</th>\n",
       "      <th>Values</th>\n",
       "    </tr>\n",
       "  </thead>\n",
       "  <tbody>\n",
       "    <tr>\n",
       "      <th>0</th>\n",
       "      <td>Manuel Neuer</td>\n",
       "      <td>€15.00m</td>\n",
       "    </tr>\n",
       "    <tr>\n",
       "      <th>1</th>\n",
       "      <td>Sven Ulreich</td>\n",
       "      <td>€900k</td>\n",
       "    </tr>\n",
       "    <tr>\n",
       "      <th>2</th>\n",
       "      <td>Christian Früchtl</td>\n",
       "      <td>€600k</td>\n",
       "    </tr>\n",
       "    <tr>\n",
       "      <th>3</th>\n",
       "      <td>Ron-Thorben Hoffmann</td>\n",
       "      <td>€500k</td>\n",
       "    </tr>\n",
       "    <tr>\n",
       "      <th>4</th>\n",
       "      <td>Lucas Hernández</td>\n",
       "      <td>€50.00m</td>\n",
       "    </tr>\n",
       "    <tr>\n",
       "      <th>...</th>\n",
       "      <td>...</td>\n",
       "      <td>...</td>\n",
       "    </tr>\n",
       "    <tr>\n",
       "      <th>631</th>\n",
       "      <td>Phillip Tietz</td>\n",
       "      <td>€2.00m</td>\n",
       "    </tr>\n",
       "    <tr>\n",
       "      <th>632</th>\n",
       "      <td>Luca Pfeiffer</td>\n",
       "      <td>€2.00m</td>\n",
       "    </tr>\n",
       "    <tr>\n",
       "      <th>633</th>\n",
       "      <td>Aaron Seydel</td>\n",
       "      <td>€600k</td>\n",
       "    </tr>\n",
       "    <tr>\n",
       "      <th>634</th>\n",
       "      <td>Braydon Manu</td>\n",
       "      <td>€550k</td>\n",
       "    </tr>\n",
       "    <tr>\n",
       "      <th>635</th>\n",
       "      <td>André Leipold</td>\n",
       "      <td>€200k</td>\n",
       "    </tr>\n",
       "  </tbody>\n",
       "</table>\n",
       "<p>617 rows × 2 columns</p>\n",
       "</div>"
      ],
      "text/plain": [
       "                  Players    Values\n",
       "0            Manuel Neuer  €15.00m \n",
       "1            Sven Ulreich    €900k \n",
       "2       Christian Früchtl    €600k \n",
       "3    Ron-Thorben Hoffmann    €500k \n",
       "4         Lucas Hernández  €50.00m \n",
       "..                    ...       ...\n",
       "631         Phillip Tietz   €2.00m \n",
       "632         Luca Pfeiffer   €2.00m \n",
       "633          Aaron Seydel    €600k \n",
       "634          Braydon Manu    €550k \n",
       "635         André Leipold    €200k \n",
       "\n",
       "[617 rows x 2 columns]"
      ]
     },
     "execution_count": 173,
     "metadata": {},
     "output_type": "execute_result"
    }
   ],
   "source": [
    "df4 = df4.dropna()\n",
    "df4"
   ]
  },
  {
   "cell_type": "code",
   "execution_count": 174,
   "metadata": {},
   "outputs": [],
   "source": [
    "df4.to_csv('Bu2021.csv', index=False)"
   ]
  },
  {
   "attachments": {},
   "cell_type": "markdown",
   "metadata": {},
   "source": [
    "# Ligue 1"
   ]
  },
  {
   "cell_type": "code",
   "execution_count": 175,
   "metadata": {},
   "outputs": [
    {
     "data": {
      "text/plain": [
       "['Ligue 1']"
      ]
     },
     "execution_count": 175,
     "metadata": {},
     "output_type": "execute_result"
    }
   ],
   "source": [
    "leagues = top_n_leagues(5)\n",
    "leagues = leagues[4:]\n",
    "leagues"
   ]
  },
  {
   "cell_type": "code",
   "execution_count": 176,
   "metadata": {},
   "outputs": [
    {
     "data": {
      "text/plain": [
       "['https://www.transfermarkt.co.uk/ligue-1/startseite/wettbewerb/FR1']"
      ]
     },
     "execution_count": 176,
     "metadata": {},
     "output_type": "execute_result"
    }
   ],
   "source": [
    "league_links = top_n_leagues_links(leagues)\n",
    "league_links"
   ]
  },
  {
   "cell_type": "code",
   "execution_count": 178,
   "metadata": {},
   "outputs": [
    {
     "data": {
      "text/plain": [
       "['Paris Saint-Germain',\n",
       " 'Stade Rennais FC',\n",
       " 'AS Monaco',\n",
       " 'Olympique Marseille',\n",
       " 'Olympique Lyon',\n",
       " 'RC Lens',\n",
       " 'OGC Nice',\n",
       " 'LOSC Lille',\n",
       " 'Montpellier HSC',\n",
       " 'Stade Reims',\n",
       " 'RC Strasbourg Alsace',\n",
       " 'FC Nantes',\n",
       " 'FC Lorient',\n",
       " 'FC Toulouse',\n",
       " 'Stade Brestois 29',\n",
       " 'Clermont Foot 63',\n",
       " 'FC Metz',\n",
       " 'Le Havre AC',\n",
       " 'AS Monaco',\n",
       " 'Montpellier HSC',\n",
       " 'Clermont Foot 63',\n",
       " 'Stade Reims',\n",
       " 'FC Lorient',\n",
       " 'LOSC Lille',\n",
       " 'Olympique Lyon',\n",
       " 'FC Nantes',\n",
       " 'RC Lens',\n",
       " 'Olympique Marseille',\n",
       " 'Le Havre AC',\n",
       " 'RC Strasbourg Alsace',\n",
       " 'Paris Saint-Germain',\n",
       " 'OGC Nice',\n",
       " 'FC Toulouse',\n",
       " 'FC Metz',\n",
       " 'Stade Rennais FC',\n",
       " 'Stade Brestois 29']"
      ]
     },
     "execution_count": 178,
     "metadata": {},
     "output_type": "execute_result"
    }
   ],
   "source": [
    "# Prints names only\n",
    "def team_names(links):\n",
    "    headers = {'User-Agent': 'Mozilla/5.0 (X11; Linux x86_64) AppleWebKit/537.36 (KHTML, like Gecko) Chrome/47.0.2526.106 Safari/537.36'}\n",
    "    \n",
    "    TeamList = []\n",
    "\n",
    "    for link in links:\n",
    "        page = link\n",
    "        pageTree = requests.get(page, headers=headers)\n",
    "        pageSoup = BeautifulSoup(pageTree.content, 'html.parser')\n",
    "\n",
    "        Team = pageSoup.find_all(\"img\", {\"class\": \"tiny_wappen\"})\n",
    "\n",
    "        for i in range(0,len(Team)):\n",
    "            TeamList.append(str(Team[i]).split('\" class',1)[0].split('<img alt=\"',1)[1])\n",
    "\n",
    "    return TeamList\n",
    "\n",
    "team_names = team_names(league_links)\n",
    "team_names"
   ]
  },
  {
   "cell_type": "code",
   "execution_count": 179,
   "metadata": {},
   "outputs": [
    {
     "data": {
      "text/plain": [
       "['https://www.transfermarkt.co.uk/paris-saint-germain/startseite/verein/583/saison_id/2021',\n",
       " 'https://www.transfermarkt.co.uk/fc-stade-rennes/startseite/verein/273/saison_id/2021',\n",
       " 'https://www.transfermarkt.co.uk/as-monaco/startseite/verein/162/saison_id/2021',\n",
       " 'https://www.transfermarkt.co.uk/olympique-marseille/startseite/verein/244/saison_id/2021',\n",
       " 'https://www.transfermarkt.co.uk/olympique-lyon/startseite/verein/1041/saison_id/2021',\n",
       " 'https://www.transfermarkt.co.uk/rc-lens/startseite/verein/826/saison_id/2021',\n",
       " 'https://www.transfermarkt.co.uk/ogc-nizza/startseite/verein/417/saison_id/2021',\n",
       " 'https://www.transfermarkt.co.uk/losc-lille/startseite/verein/1082/saison_id/2021',\n",
       " 'https://www.transfermarkt.co.uk/montpellier-hsc/startseite/verein/969/saison_id/2021',\n",
       " 'https://www.transfermarkt.co.uk/stade-reims/startseite/verein/1421/saison_id/2021',\n",
       " 'https://www.transfermarkt.co.uk/rc-strassburg-alsace/startseite/verein/667/saison_id/2021',\n",
       " 'https://www.transfermarkt.co.uk/fc-nantes/startseite/verein/995/saison_id/2021',\n",
       " 'https://www.transfermarkt.co.uk/fc-lorient/startseite/verein/1158/saison_id/2021',\n",
       " 'https://www.transfermarkt.co.uk/fc-toulouse/startseite/verein/415/saison_id/2021',\n",
       " 'https://www.transfermarkt.co.uk/stade-brest-29/startseite/verein/3911/saison_id/2021',\n",
       " 'https://www.transfermarkt.co.uk/clermont-foot-63/startseite/verein/3524/saison_id/2021',\n",
       " 'https://www.transfermarkt.co.uk/fc-metz/startseite/verein/347/saison_id/2021',\n",
       " 'https://www.transfermarkt.co.uk/ac-le-havre/startseite/verein/738/saison_id/2021']"
      ]
     },
     "execution_count": 179,
     "metadata": {},
     "output_type": "execute_result"
    }
   ],
   "source": [
    "every_team_links = team_links(league_links, team_names)\n",
    "for i in range(len(every_team_links)):\n",
    "    if not every_team_links[i].endswith('2023'):\n",
    "        every_team_links[i] += '/saison_id/2023'\n",
    "\n",
    "every_team_links = [s[:-1] + '1' for s in every_team_links]\n",
    "every_team_links = every_team_links[0:18]\n",
    "every_team_links"
   ]
  },
  {
   "cell_type": "code",
   "execution_count": 180,
   "metadata": {},
   "outputs": [],
   "source": [
    "df5 = build_df(every_team_links)"
   ]
  },
  {
   "cell_type": "code",
   "execution_count": 181,
   "metadata": {},
   "outputs": [
    {
     "data": {
      "text/html": [
       "<div>\n",
       "<style scoped>\n",
       "    .dataframe tbody tr th:only-of-type {\n",
       "        vertical-align: middle;\n",
       "    }\n",
       "\n",
       "    .dataframe tbody tr th {\n",
       "        vertical-align: top;\n",
       "    }\n",
       "\n",
       "    .dataframe thead th {\n",
       "        text-align: right;\n",
       "    }\n",
       "</style>\n",
       "<table border=\"1\" class=\"dataframe\">\n",
       "  <thead>\n",
       "    <tr style=\"text-align: right;\">\n",
       "      <th></th>\n",
       "      <th>Players</th>\n",
       "      <th>Values</th>\n",
       "    </tr>\n",
       "  </thead>\n",
       "  <tbody>\n",
       "    <tr>\n",
       "      <th>0</th>\n",
       "      <td>Gianluigi Donnarumma</td>\n",
       "      <td>€50.00m</td>\n",
       "    </tr>\n",
       "    <tr>\n",
       "      <th>1</th>\n",
       "      <td>Keylor Navas</td>\n",
       "      <td>€8.00m</td>\n",
       "    </tr>\n",
       "    <tr>\n",
       "      <th>2</th>\n",
       "      <td>Sergio Rico</td>\n",
       "      <td>€4.00m</td>\n",
       "    </tr>\n",
       "    <tr>\n",
       "      <th>3</th>\n",
       "      <td>Alexandre Letellier</td>\n",
       "      <td>€400k</td>\n",
       "    </tr>\n",
       "    <tr>\n",
       "      <th>4</th>\n",
       "      <td>Garissone Innocent</td>\n",
       "      <td>€300k</td>\n",
       "    </tr>\n",
       "    <tr>\n",
       "      <th>...</th>\n",
       "      <td>...</td>\n",
       "      <td>...</td>\n",
       "    </tr>\n",
       "    <tr>\n",
       "      <th>655</th>\n",
       "      <td>Josué Casimir</td>\n",
       "      <td>€200k</td>\n",
       "    </tr>\n",
       "    <tr>\n",
       "      <th>656</th>\n",
       "      <td>Matthis Abline</td>\n",
       "      <td>€3.00m</td>\n",
       "    </tr>\n",
       "    <tr>\n",
       "      <th>657</th>\n",
       "      <td>Pape Ibnou Ba</td>\n",
       "      <td>€800k</td>\n",
       "    </tr>\n",
       "    <tr>\n",
       "      <th>658</th>\n",
       "      <td>Jamal Thiaré</td>\n",
       "      <td>€700k</td>\n",
       "    </tr>\n",
       "    <tr>\n",
       "      <th>659</th>\n",
       "      <td>Khalid Boutaïb</td>\n",
       "      <td>€300k</td>\n",
       "    </tr>\n",
       "  </tbody>\n",
       "</table>\n",
       "<p>651 rows × 2 columns</p>\n",
       "</div>"
      ],
      "text/plain": [
       "                  Players    Values\n",
       "0    Gianluigi Donnarumma  €50.00m \n",
       "1            Keylor Navas   €8.00m \n",
       "2             Sergio Rico   €4.00m \n",
       "3     Alexandre Letellier    €400k \n",
       "4      Garissone Innocent    €300k \n",
       "..                    ...       ...\n",
       "655         Josué Casimir    €200k \n",
       "656        Matthis Abline   €3.00m \n",
       "657         Pape Ibnou Ba    €800k \n",
       "658          Jamal Thiaré    €700k \n",
       "659        Khalid Boutaïb    €300k \n",
       "\n",
       "[651 rows x 2 columns]"
      ]
     },
     "execution_count": 181,
     "metadata": {},
     "output_type": "execute_result"
    }
   ],
   "source": [
    "df5 = df5.dropna()\n",
    "df5"
   ]
  },
  {
   "cell_type": "code",
   "execution_count": 182,
   "metadata": {},
   "outputs": [],
   "source": [
    "df5.to_csv('L12021.csv', index=False)"
   ]
  }
 ],
 "metadata": {
  "kernelspec": {
   "display_name": "Python 3",
   "language": "python",
   "name": "python3"
  },
  "language_info": {
   "codemirror_mode": {
    "name": "ipython",
    "version": 3
   },
   "file_extension": ".py",
   "mimetype": "text/x-python",
   "name": "python",
   "nbconvert_exporter": "python",
   "pygments_lexer": "ipython3",
   "version": "3.9.6"
  }
 },
 "nbformat": 4,
 "nbformat_minor": 4
}
